{
 "cells": [
  {
   "cell_type": "code",
   "execution_count": 11,
   "metadata": {},
   "outputs": [],
   "source": [
    "import pandas as pd\n",
    "import glob\n",
    "import os\n",
    "import json\n",
    "import re\n",
    "from pandas.io.json import json_normalize"
   ]
  },
  {
   "cell_type": "code",
   "execution_count": 12,
   "metadata": {},
   "outputs": [
    {
     "data": {
      "text/html": [
       "<div>\n",
       "<style scoped>\n",
       "    .dataframe tbody tr th:only-of-type {\n",
       "        vertical-align: middle;\n",
       "    }\n",
       "\n",
       "    .dataframe tbody tr th {\n",
       "        vertical-align: top;\n",
       "    }\n",
       "\n",
       "    .dataframe thead th {\n",
       "        text-align: right;\n",
       "    }\n",
       "</style>\n",
       "<table border=\"1\" class=\"dataframe\">\n",
       "  <thead>\n",
       "    <tr style=\"text-align: right;\">\n",
       "      <th></th>\n",
       "      <th>Unnamed: 0</th>\n",
       "      <th>Clause</th>\n",
       "      <th>ClauseID</th>\n",
       "      <th>Category</th>\n",
       "      <th>JSON</th>\n",
       "    </tr>\n",
       "  </thead>\n",
       "  <tbody>\n",
       "    <tr>\n",
       "      <th>0</th>\n",
       "      <td>0</td>\n",
       "      <td>The Information We Collect and Use    Non-per...</td>\n",
       "      <td>1</td>\n",
       "      <td>First Party Collection/Use</td>\n",
       "      <td>{\"Collection Mode\": {\"endIndexInSegment\": 128,...</td>\n",
       "    </tr>\n",
       "    <tr>\n",
       "      <th>1</th>\n",
       "      <td>1</td>\n",
       "      <td>The Information We Collect and Use    Non-per...</td>\n",
       "      <td>1</td>\n",
       "      <td>First Party Collection/Use</td>\n",
       "      <td>{\"Collection Mode\": {\"endIndexInSegment\": 128,...</td>\n",
       "    </tr>\n",
       "    <tr>\n",
       "      <th>2</th>\n",
       "      <td>2</td>\n",
       "      <td>The Information We Collect and Use    Non-per...</td>\n",
       "      <td>1</td>\n",
       "      <td>First Party Collection/Use</td>\n",
       "      <td>{\"Collection Mode\": {\"endIndexInSegment\": 128,...</td>\n",
       "    </tr>\n",
       "    <tr>\n",
       "      <th>3</th>\n",
       "      <td>3</td>\n",
       "      <td>The Information We Collect and Use    Non-per...</td>\n",
       "      <td>1</td>\n",
       "      <td>First Party Collection/Use</td>\n",
       "      <td>{\"Collection Mode\": {\"endIndexInSegment\": 566,...</td>\n",
       "    </tr>\n",
       "    <tr>\n",
       "      <th>4</th>\n",
       "      <td>4</td>\n",
       "      <td>The Information We Collect and Use    Non-per...</td>\n",
       "      <td>1</td>\n",
       "      <td>First Party Collection/Use</td>\n",
       "      <td>{\"Collection Mode\": {\"endIndexInSegment\": 566,...</td>\n",
       "    </tr>\n",
       "    <tr>\n",
       "      <th>...</th>\n",
       "      <td>...</td>\n",
       "      <td>...</td>\n",
       "      <td>...</td>\n",
       "      <td>...</td>\n",
       "      <td>...</td>\n",
       "    </tr>\n",
       "    <tr>\n",
       "      <th>21390</th>\n",
       "      <td>328</td>\n",
       "      <td>10. Changes to This privacy policy. This priva...</td>\n",
       "      <td>46</td>\n",
       "      <td>Policy Change</td>\n",
       "      <td>{\"Change Type\": {\"endIndexInSegment\": 34, \"sta...</td>\n",
       "    </tr>\n",
       "    <tr>\n",
       "      <th>21391</th>\n",
       "      <td>329</td>\n",
       "      <td>10. Changes to This privacy policy. This priva...</td>\n",
       "      <td>46</td>\n",
       "      <td>Policy Change</td>\n",
       "      <td>{\"Change Type\": {\"endIndexInSegment\": 185, \"st...</td>\n",
       "    </tr>\n",
       "    <tr>\n",
       "      <th>21392</th>\n",
       "      <td>330</td>\n",
       "      <td>10. Changes to This privacy policy. This priva...</td>\n",
       "      <td>46</td>\n",
       "      <td>Policy Change</td>\n",
       "      <td>{\"Change Type\": {\"selectedText\": \"if we make a...</td>\n",
       "    </tr>\n",
       "    <tr>\n",
       "      <th>21393</th>\n",
       "      <td>331</td>\n",
       "      <td>10. Changes to This privacy policy. This priva...</td>\n",
       "      <td>46</td>\n",
       "      <td>Policy Change</td>\n",
       "      <td>{\"Change Type\": {\"selectedText\": \"This privacy...</td>\n",
       "    </tr>\n",
       "    <tr>\n",
       "      <th>21394</th>\n",
       "      <td>332</td>\n",
       "      <td>10. Changes to This privacy policy. This priva...</td>\n",
       "      <td>46</td>\n",
       "      <td>Other</td>\n",
       "      <td>{\"Other Type\": {\"selectedText\": \"Any changes t...</td>\n",
       "    </tr>\n",
       "  </tbody>\n",
       "</table>\n",
       "<p>21395 rows × 5 columns</p>\n",
       "</div>"
      ],
      "text/plain": [
       "       Unnamed: 0                                             Clause  \\\n",
       "0               0   The Information We Collect and Use    Non-per...   \n",
       "1               1   The Information We Collect and Use    Non-per...   \n",
       "2               2   The Information We Collect and Use    Non-per...   \n",
       "3               3   The Information We Collect and Use    Non-per...   \n",
       "4               4   The Information We Collect and Use    Non-per...   \n",
       "...           ...                                                ...   \n",
       "21390         328  10. Changes to This privacy policy. This priva...   \n",
       "21391         329  10. Changes to This privacy policy. This priva...   \n",
       "21392         330  10. Changes to This privacy policy. This priva...   \n",
       "21393         331  10. Changes to This privacy policy. This priva...   \n",
       "21394         332  10. Changes to This privacy policy. This priva...   \n",
       "\n",
       "       ClauseID                    Category  \\\n",
       "0             1  First Party Collection/Use   \n",
       "1             1  First Party Collection/Use   \n",
       "2             1  First Party Collection/Use   \n",
       "3             1  First Party Collection/Use   \n",
       "4             1  First Party Collection/Use   \n",
       "...         ...                         ...   \n",
       "21390        46               Policy Change   \n",
       "21391        46               Policy Change   \n",
       "21392        46               Policy Change   \n",
       "21393        46               Policy Change   \n",
       "21394        46                       Other   \n",
       "\n",
       "                                                    JSON  \n",
       "0      {\"Collection Mode\": {\"endIndexInSegment\": 128,...  \n",
       "1      {\"Collection Mode\": {\"endIndexInSegment\": 128,...  \n",
       "2      {\"Collection Mode\": {\"endIndexInSegment\": 128,...  \n",
       "3      {\"Collection Mode\": {\"endIndexInSegment\": 566,...  \n",
       "4      {\"Collection Mode\": {\"endIndexInSegment\": 566,...  \n",
       "...                                                  ...  \n",
       "21390  {\"Change Type\": {\"endIndexInSegment\": 34, \"sta...  \n",
       "21391  {\"Change Type\": {\"endIndexInSegment\": 185, \"st...  \n",
       "21392  {\"Change Type\": {\"selectedText\": \"if we make a...  \n",
       "21393  {\"Change Type\": {\"selectedText\": \"This privacy...  \n",
       "21394  {\"Other Type\": {\"selectedText\": \"Any changes t...  \n",
       "\n",
       "[21395 rows x 5 columns]"
      ]
     },
     "execution_count": 12,
     "metadata": {},
     "output_type": "execute_result"
    }
   ],
   "source": [
    "df = pd.read_csv(\"Base Classifier/Dataset.csv\")\n",
    "df"
   ]
  },
  {
   "cell_type": "code",
   "execution_count": 13,
   "metadata": {},
   "outputs": [
    {
     "data": {
      "text/plain": [
       "['Data Retention',\n",
       " 'Data Security',\n",
       " 'Do Not Track',\n",
       " 'First Party Collection',\n",
       " 'International and Specific Audiences',\n",
       " 'Other',\n",
       " 'Policy Change',\n",
       " 'Third Party Sharing',\n",
       " 'User Access, Edit and Deletion',\n",
       " 'User Choice and Control']"
      ]
     },
     "execution_count": 13,
     "metadata": {},
     "output_type": "execute_result"
    }
   ],
   "source": [
    "os.listdir('Secondary Classifiers')"
   ]
  },
  {
   "cell_type": "code",
   "execution_count": 15,
   "metadata": {},
   "outputs": [],
   "source": [
    "structure = {\n",
    "    'Data Retention' : {\"name\" : \"Data Retention\", \"data\" : pd.DataFrame(columns=['Clause', 'Category', 'JSON'])},\n",
    "     'Data Security' : {\"name\" : \"Data Security\", \"data\" : pd.DataFrame(columns=['Clause', 'Category', 'JSON'])},\n",
    "     'Do Not Track' : {\"name\" : \"Do Not Track\", \"data\" : pd.DataFrame(columns=['Clause', 'Category', 'JSON'])},\n",
    "     'First Party Collection/Use' : {\"name\" : \"First Party Collection\", \"data\" : pd.DataFrame(columns=['Clause', 'Category', 'JSON'])},\n",
    "     'International and Specific Audiences' : {\"name\" : \"International and Specific Audiences\", \"data\" : pd.DataFrame(columns=['Clause', 'Category', 'JSON'])},\n",
    "     'Other' : {\"name\" : \"Other\", \"data\" : pd.DataFrame(columns=['Clause', 'Category', 'JSON'])},\n",
    "     'Policy Change' : {\"name\" : \"Policy Change\", \"data\" : pd.DataFrame(columns=['Clause', 'Category', 'JSON'])},\n",
    "     'Third Party Sharing/Collection' : {\"name\" : \"Third Party Sharing\", \"data\" : pd.DataFrame(columns=['Clause', 'Category', 'JSON'])},\n",
    "     'User Access, Edit and Deletion' : {\"name\" : \"User Access, Edit and Deletion\", \"data\" : pd.DataFrame(columns=['Clause', 'Category', 'JSON'])},\n",
    "     'User Choice/Control' : {\"name\" : \"User Choice and Control\", \"data\" : pd.DataFrame(columns=['Clause', 'Category', 'JSON'])}\n",
    "}"
   ]
  },
  {
   "cell_type": "code",
   "execution_count": 16,
   "metadata": {},
   "outputs": [],
   "source": [
    "basic_path = \"Secondary Classifiers\"\n",
    "for i,j in df.iterrows():\n",
    "    current_category = j['Category']\n",
    "    new_df = pd.DataFrame([j])\n",
    "    structure[current_category][\"data\"] = pd.concat([ structure[current_category][\"data\"],new_df ], ignore_index=True) "
   ]
  },
  {
   "cell_type": "code",
   "execution_count": 17,
   "metadata": {},
   "outputs": [],
   "source": [
    "category_names = list(structure.keys())"
   ]
  },
  {
   "cell_type": "code",
   "execution_count": 25,
   "metadata": {},
   "outputs": [
    {
     "name": "stdout",
     "output_type": "stream",
     "text": [
      "Data Retention : 360\n",
      "Data Security : 814\n",
      "Do Not Track : 70\n",
      "First Party Collection/Use : 8698\n",
      "International and Specific Audiences : 683\n",
      "Other : 2578\n",
      "Policy Change : 520\n",
      "Third Party Sharing/Collection : 5178\n",
      "User Access, Edit and Deletion : 729\n",
      "User Choice/Control : 1765\n"
     ]
    }
   ],
   "source": [
    "for category in category_names:\n",
    "    print(category + \" : \" + str(structure[category][\"data\"].shape[0]))"
   ]
  }
 ],
 "metadata": {
  "kernelspec": {
   "display_name": "Python 3",
   "language": "python",
   "name": "python3"
  },
  "language_info": {
   "codemirror_mode": {
    "name": "ipython",
    "version": 3
   },
   "file_extension": ".py",
   "mimetype": "text/x-python",
   "name": "python",
   "nbconvert_exporter": "python",
   "pygments_lexer": "ipython3",
   "version": "3.7.6"
  }
 },
 "nbformat": 4,
 "nbformat_minor": 4
}
