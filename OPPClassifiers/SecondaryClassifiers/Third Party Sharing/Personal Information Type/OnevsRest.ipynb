{
 "cells": [
  {
   "cell_type": "code",
   "execution_count": 1,
   "metadata": {},
   "outputs": [],
   "source": [
    "# %matplotlib inline\n",
    "from numpy.random import RandomState\n",
    "import numpy\n",
    "import re\n",
    "import matplotlib\n",
    "import numpy as np\n",
    "import matplotlib.pyplot as plt\n",
    "import pandas as pd\n",
    "from sklearn.model_selection import train_test_split\n",
    "from sklearn.feature_extraction.text import TfidfVectorizer\n",
    "from sklearn.naive_bayes import MultinomialNB\n",
    "from sklearn.metrics import accuracy_score, multilabel_confusion_matrix\n",
    "from sklearn.multiclass import OneVsRestClassifier\n",
    "from nltk.corpus import stopwords\n",
    "from sklearn.svm import LinearSVC\n",
    "from sklearn.linear_model import LogisticRegression\n",
    "from sklearn.pipeline import Pipeline\n",
    "import seaborn as sns\n",
    "import string\n",
    "from sklearn.decomposition import TruncatedSVD"
   ]
  },
  {
   "cell_type": "code",
   "execution_count": 2,
   "metadata": {},
   "outputs": [],
   "source": [
    "import os\n",
    "path_to_model = 'C:/Users/prana/Desktop/BE Project/LegalBuddyServer/OPPClassifiers/SecondaryClassifiers/Models/ThirdPartySharing/PersonalInformationType.sav'\n",
    "# os.listdir(path_to_model)"
   ]
  },
  {
   "cell_type": "code",
   "execution_count": null,
   "metadata": {},
   "outputs": [],
   "source": []
  },
  {
   "cell_type": "markdown",
   "metadata": {},
   "source": [
    "# Create Multilabel Dataset"
   ]
  },
  {
   "cell_type": "code",
   "execution_count": 3,
   "metadata": {},
   "outputs": [],
   "source": [
    "#preprocess\n",
    "df = pd.read_csv('dataset.csv')\n",
    "df = df.dropna()\n",
    "\n",
    "classes = list(df.Category.unique())\n",
    "total_unique_clauses = df.Clause.unique().size\n",
    "\n",
    "#creating dict for appending\n",
    "classes_dict = {}\n",
    "for single_class in classes:\n",
    "    classes_dict[single_class] = list(numpy.zeros(total_unique_clauses))\n",
    "\n",
    "#creating the df\n",
    "data = {}\n",
    "for index,row in df.iterrows():\n",
    "    try : \n",
    "        data[row['Clause']].append(row['Category'])\n",
    "        data[row['Clause']] = list(set(data[row['Clause']]))  \n",
    "    except:\n",
    "        data[row['Clause']] = [row['Category']]\n",
    "\n",
    "        Clause = []\n",
    "Category = []\n",
    "for key in data.keys():\n",
    "    Clause.append(key)\n",
    "    Category.append(data[key])\n",
    "    \n",
    "data = pd.DataFrame({\n",
    "    'Clause' : Clause,\n",
    "    'Category' : Category\n",
    "})\n",
    "index = 0\n",
    "for category_list in data.Category:\n",
    "    for category in category_list:\n",
    "        classes_dict[category][index] = 1\n",
    "    index += 1\n",
    "\n",
    "classes_dict = pd.DataFrame(classes_dict)"
   ]
  },
  {
   "cell_type": "code",
   "execution_count": 4,
   "metadata": {},
   "outputs": [
    {
     "data": {
      "text/html": [
       "<div>\n",
       "<style scoped>\n",
       "    .dataframe tbody tr th:only-of-type {\n",
       "        vertical-align: middle;\n",
       "    }\n",
       "\n",
       "    .dataframe tbody tr th {\n",
       "        vertical-align: top;\n",
       "    }\n",
       "\n",
       "    .dataframe thead th {\n",
       "        text-align: right;\n",
       "    }\n",
       "</style>\n",
       "<table border=\"1\" class=\"dataframe\">\n",
       "  <thead>\n",
       "    <tr style=\"text-align: right;\">\n",
       "      <th></th>\n",
       "      <th>Clause</th>\n",
       "      <th>Category</th>\n",
       "    </tr>\n",
       "  </thead>\n",
       "  <tbody>\n",
       "    <tr>\n",
       "      <th>0</th>\n",
       "      <td>personally identifiable information</td>\n",
       "      <td>[Generic personal information, Unspecified, Pe...</td>\n",
       "    </tr>\n",
       "    <tr>\n",
       "      <th>1</th>\n",
       "      <td>information</td>\n",
       "      <td>[Contact, Demographic, Unspecified, Generic pe...</td>\n",
       "    </tr>\n",
       "    <tr>\n",
       "      <th>2</th>\n",
       "      <td>personally identifiable information,</td>\n",
       "      <td>[Generic personal information]</td>\n",
       "    </tr>\n",
       "    <tr>\n",
       "      <th>3</th>\n",
       "      <td>personal information</td>\n",
       "      <td>[Generic personal information, Financial, Unsp...</td>\n",
       "    </tr>\n",
       "    <tr>\n",
       "      <th>4</th>\n",
       "      <td>personal information t</td>\n",
       "      <td>[Generic personal information]</td>\n",
       "    </tr>\n",
       "  </tbody>\n",
       "</table>\n",
       "</div>"
      ],
      "text/plain": [
       "                                 Clause  \\\n",
       "0   personally identifiable information   \n",
       "1                           information   \n",
       "2  personally identifiable information,   \n",
       "3                  personal information   \n",
       "4                personal information t   \n",
       "\n",
       "                                            Category  \n",
       "0  [Generic personal information, Unspecified, Pe...  \n",
       "1  [Contact, Demographic, Unspecified, Generic pe...  \n",
       "2                     [Generic personal information]  \n",
       "3  [Generic personal information, Financial, Unsp...  \n",
       "4                     [Generic personal information]  "
      ]
     },
     "execution_count": 4,
     "metadata": {},
     "output_type": "execute_result"
    }
   ],
   "source": [
    "data.head()"
   ]
  },
  {
   "cell_type": "code",
   "execution_count": 5,
   "metadata": {},
   "outputs": [
    {
     "data": {
      "text/html": [
       "<div>\n",
       "<style scoped>\n",
       "    .dataframe tbody tr th:only-of-type {\n",
       "        vertical-align: middle;\n",
       "    }\n",
       "\n",
       "    .dataframe tbody tr th {\n",
       "        vertical-align: top;\n",
       "    }\n",
       "\n",
       "    .dataframe thead th {\n",
       "        text-align: right;\n",
       "    }\n",
       "</style>\n",
       "<table border=\"1\" class=\"dataframe\">\n",
       "  <thead>\n",
       "    <tr style=\"text-align: right;\">\n",
       "      <th></th>\n",
       "      <th>Generic personal information</th>\n",
       "      <th>Unspecified</th>\n",
       "      <th>Other</th>\n",
       "      <th>Contact</th>\n",
       "      <th>User Profile</th>\n",
       "      <th>IP address and device IDs</th>\n",
       "      <th>Location</th>\n",
       "      <th>Cookies and tracking elements</th>\n",
       "      <th>User online activities</th>\n",
       "      <th>Personal identifier</th>\n",
       "      <th>Financial</th>\n",
       "      <th>Computer information</th>\n",
       "      <th>Demographic</th>\n",
       "      <th>Survey data</th>\n",
       "      <th>Health</th>\n",
       "    </tr>\n",
       "  </thead>\n",
       "  <tbody>\n",
       "    <tr>\n",
       "      <th>0</th>\n",
       "      <td>1.0</td>\n",
       "      <td>1.0</td>\n",
       "      <td>0.0</td>\n",
       "      <td>0.0</td>\n",
       "      <td>0.0</td>\n",
       "      <td>0.0</td>\n",
       "      <td>0.0</td>\n",
       "      <td>0.0</td>\n",
       "      <td>0.0</td>\n",
       "      <td>1.0</td>\n",
       "      <td>0.0</td>\n",
       "      <td>0.0</td>\n",
       "      <td>0.0</td>\n",
       "      <td>0.0</td>\n",
       "      <td>0.0</td>\n",
       "    </tr>\n",
       "    <tr>\n",
       "      <th>1</th>\n",
       "      <td>1.0</td>\n",
       "      <td>1.0</td>\n",
       "      <td>1.0</td>\n",
       "      <td>1.0</td>\n",
       "      <td>0.0</td>\n",
       "      <td>0.0</td>\n",
       "      <td>0.0</td>\n",
       "      <td>0.0</td>\n",
       "      <td>0.0</td>\n",
       "      <td>0.0</td>\n",
       "      <td>0.0</td>\n",
       "      <td>0.0</td>\n",
       "      <td>1.0</td>\n",
       "      <td>0.0</td>\n",
       "      <td>1.0</td>\n",
       "    </tr>\n",
       "    <tr>\n",
       "      <th>2</th>\n",
       "      <td>1.0</td>\n",
       "      <td>0.0</td>\n",
       "      <td>0.0</td>\n",
       "      <td>0.0</td>\n",
       "      <td>0.0</td>\n",
       "      <td>0.0</td>\n",
       "      <td>0.0</td>\n",
       "      <td>0.0</td>\n",
       "      <td>0.0</td>\n",
       "      <td>0.0</td>\n",
       "      <td>0.0</td>\n",
       "      <td>0.0</td>\n",
       "      <td>0.0</td>\n",
       "      <td>0.0</td>\n",
       "      <td>0.0</td>\n",
       "    </tr>\n",
       "    <tr>\n",
       "      <th>3</th>\n",
       "      <td>1.0</td>\n",
       "      <td>1.0</td>\n",
       "      <td>0.0</td>\n",
       "      <td>0.0</td>\n",
       "      <td>0.0</td>\n",
       "      <td>0.0</td>\n",
       "      <td>0.0</td>\n",
       "      <td>0.0</td>\n",
       "      <td>0.0</td>\n",
       "      <td>0.0</td>\n",
       "      <td>1.0</td>\n",
       "      <td>0.0</td>\n",
       "      <td>0.0</td>\n",
       "      <td>0.0</td>\n",
       "      <td>0.0</td>\n",
       "    </tr>\n",
       "    <tr>\n",
       "      <th>4</th>\n",
       "      <td>1.0</td>\n",
       "      <td>0.0</td>\n",
       "      <td>0.0</td>\n",
       "      <td>0.0</td>\n",
       "      <td>0.0</td>\n",
       "      <td>0.0</td>\n",
       "      <td>0.0</td>\n",
       "      <td>0.0</td>\n",
       "      <td>0.0</td>\n",
       "      <td>0.0</td>\n",
       "      <td>0.0</td>\n",
       "      <td>0.0</td>\n",
       "      <td>0.0</td>\n",
       "      <td>0.0</td>\n",
       "      <td>0.0</td>\n",
       "    </tr>\n",
       "  </tbody>\n",
       "</table>\n",
       "</div>"
      ],
      "text/plain": [
       "   Generic personal information  Unspecified  Other  Contact  User Profile  \\\n",
       "0                           1.0          1.0    0.0      0.0           0.0   \n",
       "1                           1.0          1.0    1.0      1.0           0.0   \n",
       "2                           1.0          0.0    0.0      0.0           0.0   \n",
       "3                           1.0          1.0    0.0      0.0           0.0   \n",
       "4                           1.0          0.0    0.0      0.0           0.0   \n",
       "\n",
       "   IP address and device IDs  Location  Cookies and tracking elements  \\\n",
       "0                        0.0       0.0                            0.0   \n",
       "1                        0.0       0.0                            0.0   \n",
       "2                        0.0       0.0                            0.0   \n",
       "3                        0.0       0.0                            0.0   \n",
       "4                        0.0       0.0                            0.0   \n",
       "\n",
       "   User online activities  Personal identifier  Financial  \\\n",
       "0                     0.0                  1.0        0.0   \n",
       "1                     0.0                  0.0        0.0   \n",
       "2                     0.0                  0.0        0.0   \n",
       "3                     0.0                  0.0        1.0   \n",
       "4                     0.0                  0.0        0.0   \n",
       "\n",
       "   Computer information  Demographic  Survey data  Health  \n",
       "0                   0.0          0.0          0.0     0.0  \n",
       "1                   0.0          1.0          0.0     1.0  \n",
       "2                   0.0          0.0          0.0     0.0  \n",
       "3                   0.0          0.0          0.0     0.0  \n",
       "4                   0.0          0.0          0.0     0.0  "
      ]
     },
     "execution_count": 5,
     "metadata": {},
     "output_type": "execute_result"
    }
   ],
   "source": [
    "classes_dict.head()"
   ]
  },
  {
   "cell_type": "code",
   "execution_count": 6,
   "metadata": {},
   "outputs": [],
   "source": [
    "one_hot_encoded_data = pd.concat([data, classes_dict], axis=1)\n",
    "one_hot_encoded_data.drop(columns=['Category']).to_csv('multilabel_dataset.csv')"
   ]
  },
  {
   "cell_type": "code",
   "execution_count": 7,
   "metadata": {},
   "outputs": [],
   "source": [
    "df = pd.read_csv('multilabel_dataset.csv')\n",
    "df = df.dropna()\n",
    "train = df.sample(frac=0.8, random_state = RandomState())\n",
    "test = df.loc[~df.index.isin(train.index)]\n",
    "validation = train.sample(frac=0.2, random_state=200)"
   ]
  },
  {
   "cell_type": "code",
   "execution_count": 8,
   "metadata": {},
   "outputs": [
    {
     "data": {
      "text/plain": [
       "array(['Generic personal information', 'Unspecified', 'Other', 'Contact',\n",
       "       'User Profile', 'IP address and device IDs', 'Location',\n",
       "       'Cookies and tracking elements', 'User online activities',\n",
       "       'Personal identifier', 'Financial', 'Computer information',\n",
       "       'Demographic', 'Survey data', 'Health'], dtype=object)"
      ]
     },
     "execution_count": 8,
     "metadata": {},
     "output_type": "execute_result"
    }
   ],
   "source": [
    "df.columns.values[2:]"
   ]
  },
  {
   "cell_type": "markdown",
   "metadata": {},
   "source": [
    "# Visualizing Data"
   ]
  },
  {
   "cell_type": "code",
   "execution_count": 9,
   "metadata": {},
   "outputs": [
    {
     "data": {
      "text/html": [
       "<div>\n",
       "<style scoped>\n",
       "    .dataframe tbody tr th:only-of-type {\n",
       "        vertical-align: middle;\n",
       "    }\n",
       "\n",
       "    .dataframe tbody tr th {\n",
       "        vertical-align: top;\n",
       "    }\n",
       "\n",
       "    .dataframe thead th {\n",
       "        text-align: right;\n",
       "    }\n",
       "</style>\n",
       "<table border=\"1\" class=\"dataframe\">\n",
       "  <thead>\n",
       "    <tr style=\"text-align: right;\">\n",
       "      <th></th>\n",
       "      <th>category</th>\n",
       "      <th>number_of_comments</th>\n",
       "    </tr>\n",
       "  </thead>\n",
       "  <tbody>\n",
       "    <tr>\n",
       "      <th>0</th>\n",
       "      <td>Generic personal information</td>\n",
       "      <td>190.0</td>\n",
       "    </tr>\n",
       "    <tr>\n",
       "      <th>1</th>\n",
       "      <td>Unspecified</td>\n",
       "      <td>466.0</td>\n",
       "    </tr>\n",
       "    <tr>\n",
       "      <th>2</th>\n",
       "      <td>Other</td>\n",
       "      <td>136.0</td>\n",
       "    </tr>\n",
       "    <tr>\n",
       "      <th>3</th>\n",
       "      <td>Contact</td>\n",
       "      <td>170.0</td>\n",
       "    </tr>\n",
       "    <tr>\n",
       "      <th>4</th>\n",
       "      <td>User Profile</td>\n",
       "      <td>78.0</td>\n",
       "    </tr>\n",
       "    <tr>\n",
       "      <th>5</th>\n",
       "      <td>IP address and device IDs</td>\n",
       "      <td>70.0</td>\n",
       "    </tr>\n",
       "    <tr>\n",
       "      <th>6</th>\n",
       "      <td>Location</td>\n",
       "      <td>40.0</td>\n",
       "    </tr>\n",
       "    <tr>\n",
       "      <th>7</th>\n",
       "      <td>Cookies and tracking elements</td>\n",
       "      <td>180.0</td>\n",
       "    </tr>\n",
       "    <tr>\n",
       "      <th>8</th>\n",
       "      <td>User online activities</td>\n",
       "      <td>285.0</td>\n",
       "    </tr>\n",
       "    <tr>\n",
       "      <th>9</th>\n",
       "      <td>Personal identifier</td>\n",
       "      <td>14.0</td>\n",
       "    </tr>\n",
       "    <tr>\n",
       "      <th>10</th>\n",
       "      <td>Financial</td>\n",
       "      <td>77.0</td>\n",
       "    </tr>\n",
       "    <tr>\n",
       "      <th>11</th>\n",
       "      <td>Computer information</td>\n",
       "      <td>62.0</td>\n",
       "    </tr>\n",
       "    <tr>\n",
       "      <th>12</th>\n",
       "      <td>Demographic</td>\n",
       "      <td>38.0</td>\n",
       "    </tr>\n",
       "    <tr>\n",
       "      <th>13</th>\n",
       "      <td>Survey data</td>\n",
       "      <td>14.0</td>\n",
       "    </tr>\n",
       "    <tr>\n",
       "      <th>14</th>\n",
       "      <td>Health</td>\n",
       "      <td>17.0</td>\n",
       "    </tr>\n",
       "  </tbody>\n",
       "</table>\n",
       "</div>"
      ],
      "text/plain": [
       "                         category  number_of_comments\n",
       "0    Generic personal information               190.0\n",
       "1                     Unspecified               466.0\n",
       "2                           Other               136.0\n",
       "3                         Contact               170.0\n",
       "4                    User Profile                78.0\n",
       "5       IP address and device IDs                70.0\n",
       "6                        Location                40.0\n",
       "7   Cookies and tracking elements               180.0\n",
       "8          User online activities               285.0\n",
       "9             Personal identifier                14.0\n",
       "10                      Financial                77.0\n",
       "11           Computer information                62.0\n",
       "12                    Demographic                38.0\n",
       "13                    Survey data                14.0\n",
       "14                         Health                17.0"
      ]
     },
     "execution_count": 9,
     "metadata": {},
     "output_type": "execute_result"
    }
   ],
   "source": [
    "counts = []\n",
    "categories = list(df.columns.values[2:])\n",
    "for i in categories:\n",
    "    counts.append((i, df[i].sum()))\n",
    "df_stats = pd.DataFrame(counts, columns=['category', 'number_of_comments'])\n",
    "df_stats"
   ]
  },
  {
   "cell_type": "code",
   "execution_count": 10,
   "metadata": {},
   "outputs": [
    {
     "data": {
      "text/plain": [
       "Text(0.5, 0, 'category')"
      ]
     },
     "execution_count": 10,
     "metadata": {},
     "output_type": "execute_result"
    },
    {
     "data": {
      "image/png": "[encoded data removed]",
      "text/plain": [
       "<Figure size 576x360 with 1 Axes>"
      ]
     },
     "metadata": {
      "needs_background": "light"
     },
     "output_type": "display_data"
    }
   ],
   "source": [
    "df_stats.plot(x='category', y='number_of_comments', kind='bar', legend=False, grid=True, figsize=(8, 5))\n",
    "plt.title(\"Number of comments per category\")\n",
    "plt.ylabel('# of Occurrences', fontsize=12)\n",
    "plt.xlabel('category', fontsize=12)"
   ]
  },
  {
   "cell_type": "markdown",
   "metadata": {},
   "source": [
    "# Preprocessing Data"
   ]
  },
  {
   "cell_type": "code",
   "execution_count": 11,
   "metadata": {},
   "outputs": [],
   "source": [
    "# cleaned_clause = []\n",
    "# for clause in df.Clause:\n",
    "#     clause = clause.lower()\n",
    "#     clause = re.sub(r'[0-9]+', '',clause) #number removal\n",
    "#     clause = clause.translate(string.maketrans(“”,””), string.punctuation) #removinf punctuations\n",
    "#     clause = clause.strip() #whitespace removal\n",
    "#     clause\n",
    "#     break"
   ]
  },
  {
   "cell_type": "code",
   "execution_count": 12,
   "metadata": {},
   "outputs": [],
   "source": [
    "x_test = test.Clause\n",
    "x_train = train.Clause"
   ]
  },
  {
   "cell_type": "code",
   "execution_count": 13,
   "metadata": {},
   "outputs": [],
   "source": [
    "y = train.iloc[:,2:]\n",
    "y_test = test.iloc[:,2:]\n",
    "\n",
    "categories = list(y.columns)"
   ]
  },
  {
   "cell_type": "code",
   "execution_count": 14,
   "metadata": {},
   "outputs": [
    {
     "data": {
      "text/plain": [
       "<1743x2158 sparse matrix of type '<class 'numpy.float64'>'\n",
       "\twith 22495 stored elements in Compressed Sparse Row format>"
      ]
     },
     "execution_count": 14,
     "metadata": {},
     "output_type": "execute_result"
    }
   ],
   "source": [
    "tfidf = TfidfVectorizer()\n",
    "tfidf.fit_transform(df.Clause)"
   ]
  },
  {
   "cell_type": "markdown",
   "metadata": {},
   "source": [
    "# Naive Bayes"
   ]
  },
  {
   "cell_type": "code",
   "execution_count": 15,
   "metadata": {},
   "outputs": [
    {
     "name": "stdout",
     "output_type": "stream",
     "text": [
      "... Processing Generic personal information\n",
      "Test accuracy is 0.8653295128939829\n",
      "... Processing Unspecified\n",
      "Test accuracy is 0.7994269340974212\n",
      "... Processing Other\n",
      "Test accuracy is 0.9197707736389685\n",
      "... Processing Contact\n",
      "Test accuracy is 0.9570200573065902\n",
      "... Processing User Profile\n",
      "Test accuracy is 0.9512893982808023\n",
      "... Processing IP address and device IDs\n",
      "Test accuracy is 0.9799426934097422\n",
      "... Processing Location\n",
      "Test accuracy is 0.9799426934097422\n",
      "... Processing Cookies and tracking elements\n",
      "Test accuracy is 0.9541547277936963\n",
      "... Processing User online activities\n",
      "Test accuracy is 0.8567335243553008\n",
      "... Processing Personal identifier\n",
      "Test accuracy is 0.9885386819484241\n",
      "... Processing Financial\n",
      "Test accuracy is 0.9484240687679083\n",
      "... Processing Computer information\n",
      "Test accuracy is 0.9541547277936963\n",
      "... Processing Demographic\n",
      "Test accuracy is 0.9856733524355301\n",
      "... Processing Survey data\n",
      "Test accuracy is 0.994269340974212\n",
      "... Processing Health\n",
      "Test accuracy is 0.9914040114613181\n"
     ]
    },
    {
     "data": {
      "text/plain": [
       "array([[[301,   0],\n",
       "        [ 47,   1]],\n",
       "\n",
       "       [[244,   8],\n",
       "        [ 62,  35]],\n",
       "\n",
       "       [[321,   0],\n",
       "        [ 28,   0]],\n",
       "\n",
       "       [[326,   0],\n",
       "        [ 15,   8]],\n",
       "\n",
       "       [[332,   0],\n",
       "        [ 17,   0]],\n",
       "\n",
       "       [[340,   0],\n",
       "        [  7,   2]],\n",
       "\n",
       "       [[342,   0],\n",
       "        [  7,   0]],\n",
       "\n",
       "       [[315,   0],\n",
       "        [ 16,  18]],\n",
       "\n",
       "       [[291,   2],\n",
       "        [ 48,   8]],\n",
       "\n",
       "       [[345,   0],\n",
       "        [  4,   0]],\n",
       "\n",
       "       [[330,   0],\n",
       "        [ 18,   1]],\n",
       "\n",
       "       [[333,   0],\n",
       "        [ 16,   0]],\n",
       "\n",
       "       [[344,   0],\n",
       "        [  5,   0]],\n",
       "\n",
       "       [[347,   0],\n",
       "        [  2,   0]],\n",
       "\n",
       "       [[346,   0],\n",
       "        [  3,   0]]], dtype=int64)"
      ]
     },
     "execution_count": 15,
     "metadata": {},
     "output_type": "execute_result"
    }
   ],
   "source": [
    "prediction_pd = {}\n",
    "classifier_list_nb = []\n",
    "for category in categories:\n",
    "    clf = OneVsRestClassifier(MultinomialNB(fit_prior=True, class_prior=None))\n",
    "    print('... Processing {}'.format(category))\n",
    "    clf.fit(tfidf.transform(x_train), y[category])\n",
    "    prediction = clf.predict(tfidf.transform(x_test))\n",
    "    print('Test accuracy is {}'.format(accuracy_score(y_test[category], prediction)))\n",
    "    prediction_pd[category] = prediction\n",
    "    classifier_list_nb.append(clf)\n",
    "prediction_pd = pd.DataFrame(prediction_pd)\n",
    "multilabel_confusion_matrix(y_test, prediction_pd)"
   ]
  },
  {
   "cell_type": "markdown",
   "metadata": {},
   "source": [
    "# Linear SVC"
   ]
  },
  {
   "cell_type": "code",
   "execution_count": 16,
   "metadata": {},
   "outputs": [
    {
     "name": "stdout",
     "output_type": "stream",
     "text": [
      "... Processing Generic personal information\n",
      "Test accuracy is 0.9226361031518625\n",
      "... Processing Unspecified\n",
      "Test accuracy is 0.8681948424068768\n",
      "... Processing Other\n",
      "Test accuracy is 0.9255014326647565\n",
      "... Processing Contact\n",
      "Test accuracy is 0.9656160458452722\n",
      "... Processing User Profile\n",
      "Test accuracy is 0.9598853868194842\n",
      "... Processing IP address and device IDs\n",
      "Test accuracy is 0.994269340974212\n",
      "... Processing Location\n",
      "Test accuracy is 0.997134670487106\n",
      "... Processing Cookies and tracking elements\n",
      "Test accuracy is 0.9856733524355301\n",
      "... Processing User online activities\n",
      "Test accuracy is 0.9484240687679083\n",
      "... Processing Personal identifier\n",
      "Test accuracy is 0.9856733524355301\n",
      "... Processing Financial\n",
      "Test accuracy is 0.9742120343839542\n",
      "... Processing Computer information\n",
      "Test accuracy is 0.9742120343839542\n",
      "... Processing Demographic\n",
      "Test accuracy is 0.994269340974212\n",
      "... Processing Survey data\n",
      "Test accuracy is 0.997134670487106\n",
      "... Processing Health\n",
      "Test accuracy is 0.997134670487106\n"
     ]
    },
    {
     "data": {
      "text/plain": [
       "array([[[297,   4],\n",
       "        [ 23,  25]],\n",
       "\n",
       "       [[229,  23],\n",
       "        [ 23,  74]],\n",
       "\n",
       "       [[317,   4],\n",
       "        [ 22,   6]],\n",
       "\n",
       "       [[321,   5],\n",
       "        [  7,  16]],\n",
       "\n",
       "       [[326,   6],\n",
       "        [  8,   9]],\n",
       "\n",
       "       [[338,   2],\n",
       "        [  0,   9]],\n",
       "\n",
       "       [[342,   0],\n",
       "        [  1,   6]],\n",
       "\n",
       "       [[313,   2],\n",
       "        [  3,  31]],\n",
       "\n",
       "       [[289,   4],\n",
       "        [ 14,  42]],\n",
       "\n",
       "       [[344,   1],\n",
       "        [  4,   0]],\n",
       "\n",
       "       [[330,   0],\n",
       "        [  9,  10]],\n",
       "\n",
       "       [[333,   0],\n",
       "        [  9,   7]],\n",
       "\n",
       "       [[344,   0],\n",
       "        [  2,   3]],\n",
       "\n",
       "       [[347,   0],\n",
       "        [  1,   1]],\n",
       "\n",
       "       [[346,   0],\n",
       "        [  1,   2]]], dtype=int64)"
      ]
     },
     "execution_count": 16,
     "metadata": {},
     "output_type": "execute_result"
    }
   ],
   "source": [
    "prediction_pd = {}\n",
    "classifier_list_svc = []\n",
    "clf = OneVsRestClassifier(LinearSVC(), n_jobs=1)\n",
    "for category in categories:\n",
    "    print('... Processing {}'.format(category))\n",
    "    clf.fit(tfidf.transform(x_train), y[category])\n",
    "    prediction = clf.predict(tfidf.transform(x_test))\n",
    "    print('Test accuracy is {}'.format(accuracy_score(y_test[category], prediction)))\n",
    "    prediction_pd[category] = prediction\n",
    "    classifier_list_svc.append(clf)\n",
    "prediction_pd = pd.DataFrame(prediction_pd)\n",
    "multilabel_confusion_matrix(y_test, prediction_pd)"
   ]
  },
  {
   "cell_type": "markdown",
   "metadata": {},
   "source": [
    "# Logistic Regression"
   ]
  },
  {
   "cell_type": "code",
   "execution_count": 17,
   "metadata": {},
   "outputs": [
    {
     "name": "stdout",
     "output_type": "stream",
     "text": [
      "... Processing Generic personal information\n",
      "Test accuracy is 0.9111747851002865\n",
      "... Processing Unspecified\n",
      "Test accuracy is 0.833810888252149\n",
      "... Processing Other\n",
      "Test accuracy is 0.9197707736389685\n",
      "... Processing Contact\n",
      "Test accuracy is 0.9656160458452722\n",
      "... Processing User Profile\n",
      "Test accuracy is 0.9512893982808023\n",
      "... Processing IP address and device IDs\n",
      "Test accuracy is 0.9914040114613181\n",
      "... Processing Location\n",
      "Test accuracy is 0.9799426934097422\n",
      "... Processing Cookies and tracking elements\n",
      "Test accuracy is 0.9627507163323782\n",
      "... Processing User online activities\n",
      "Test accuracy is 0.9197707736389685\n",
      "... Processing Personal identifier\n",
      "Test accuracy is 0.9885386819484241\n",
      "... Processing Financial\n",
      "Test accuracy is 0.9627507163323782\n",
      "... Processing Computer information\n",
      "Test accuracy is 0.9627507163323782\n",
      "... Processing Demographic\n",
      "Test accuracy is 0.9856733524355301\n",
      "... Processing Survey data\n",
      "Test accuracy is 0.994269340974212\n",
      "... Processing Health\n",
      "Test accuracy is 0.9914040114613181\n"
     ]
    },
    {
     "data": {
      "text/plain": [
       "array([[[299,   2],\n",
       "        [ 29,  19]],\n",
       "\n",
       "       [[238,  14],\n",
       "        [ 44,  53]],\n",
       "\n",
       "       [[321,   0],\n",
       "        [ 28,   0]],\n",
       "\n",
       "       [[323,   3],\n",
       "        [  9,  14]],\n",
       "\n",
       "       [[332,   0],\n",
       "        [ 17,   0]],\n",
       "\n",
       "       [[339,   1],\n",
       "        [  2,   7]],\n",
       "\n",
       "       [[342,   0],\n",
       "        [  7,   0]],\n",
       "\n",
       "       [[313,   2],\n",
       "        [ 11,  23]],\n",
       "\n",
       "       [[292,   1],\n",
       "        [ 27,  29]],\n",
       "\n",
       "       [[345,   0],\n",
       "        [  4,   0]],\n",
       "\n",
       "       [[330,   0],\n",
       "        [ 13,   6]],\n",
       "\n",
       "       [[333,   0],\n",
       "        [ 13,   3]],\n",
       "\n",
       "       [[344,   0],\n",
       "        [  5,   0]],\n",
       "\n",
       "       [[347,   0],\n",
       "        [  2,   0]],\n",
       "\n",
       "       [[346,   0],\n",
       "        [  3,   0]]], dtype=int64)"
      ]
     },
     "execution_count": 17,
     "metadata": {},
     "output_type": "execute_result"
    }
   ],
   "source": [
    "prediction_pd = {}\n",
    "classifier_list_lr = []\n",
    "clf = OneVsRestClassifier(LogisticRegression(solver='sag'), n_jobs=1)\n",
    "for category in categories:\n",
    "    print('... Processing {}'.format(category))\n",
    "    clf.fit(tfidf.transform(x_train), y[category])\n",
    "    prediction = clf.predict(tfidf.transform(x_test))\n",
    "    print('Test accuracy is {}'.format(accuracy_score(y_test[category], prediction)))\n",
    "    prediction_pd[category] = prediction\n",
    "    classifier_list_lr.append(clf)\n",
    "prediction_pd = pd.DataFrame(prediction_pd)\n",
    "multilabel_confusion_matrix(y_test, prediction_pd)"
   ]
  },
  {
   "cell_type": "code",
   "execution_count": 18,
   "metadata": {},
   "outputs": [],
   "source": [
    "import pickle\n",
    "#saving model\n",
    "list_of_classifiers = classifier_list_svc\n",
    "pickle.dump((tfidf, list_of_classifiers), open(path_to_model, 'wb'))"
   ]
  },
  {
   "cell_type": "code",
   "execution_count": 17,
   "metadata": {},
   "outputs": [],
   "source": [
    "with open(path_to_model, 'rb') as model:\n",
    "    vect, clfs = pickle.load(model)"
   ]
  },
  {
   "cell_type": "code",
   "execution_count": 16,
   "metadata": {},
   "outputs": [
    {
     "data": {
      "text/plain": [
       "[OneVsRestClassifier(estimator=LogisticRegression(C=1.0, class_weight=None,\n",
       "                                                  dual=False, fit_intercept=True,\n",
       "                                                  intercept_scaling=1,\n",
       "                                                  l1_ratio=None, max_iter=100,\n",
       "                                                  multi_class='auto',\n",
       "                                                  n_jobs=None, penalty='l2',\n",
       "                                                  random_state=None,\n",
       "                                                  solver='sag', tol=0.0001,\n",
       "                                                  verbose=0, warm_start=False),\n",
       "                     n_jobs=1),\n",
       " OneVsRestClassifier(estimator=LogisticRegression(C=1.0, class_weight=None,\n",
       "                                                  dual=False, fit_intercept=True,\n",
       "                                                  intercept_scaling=1,\n",
       "                                                  l1_ratio=None, max_iter=100,\n",
       "                                                  multi_class='auto',\n",
       "                                                  n_jobs=None, penalty='l2',\n",
       "                                                  random_state=None,\n",
       "                                                  solver='sag', tol=0.0001,\n",
       "                                                  verbose=0, warm_start=False),\n",
       "                     n_jobs=1),\n",
       " OneVsRestClassifier(estimator=LogisticRegression(C=1.0, class_weight=None,\n",
       "                                                  dual=False, fit_intercept=True,\n",
       "                                                  intercept_scaling=1,\n",
       "                                                  l1_ratio=None, max_iter=100,\n",
       "                                                  multi_class='auto',\n",
       "                                                  n_jobs=None, penalty='l2',\n",
       "                                                  random_state=None,\n",
       "                                                  solver='sag', tol=0.0001,\n",
       "                                                  verbose=0, warm_start=False),\n",
       "                     n_jobs=1),\n",
       " OneVsRestClassifier(estimator=LogisticRegression(C=1.0, class_weight=None,\n",
       "                                                  dual=False, fit_intercept=True,\n",
       "                                                  intercept_scaling=1,\n",
       "                                                  l1_ratio=None, max_iter=100,\n",
       "                                                  multi_class='auto',\n",
       "                                                  n_jobs=None, penalty='l2',\n",
       "                                                  random_state=None,\n",
       "                                                  solver='sag', tol=0.0001,\n",
       "                                                  verbose=0, warm_start=False),\n",
       "                     n_jobs=1)]"
      ]
     },
     "execution_count": 16,
     "metadata": {},
     "output_type": "execute_result"
    }
   ],
   "source": [
    "clfs"
   ]
  },
  {
   "cell_type": "code",
   "execution_count": null,
   "metadata": {},
   "outputs": [],
   "source": []
  }
 ],
 "metadata": {
  "kernelspec": {
   "display_name": "Python 3",
   "language": "python",
   "name": "python3"
  },
  "language_info": {
   "codemirror_mode": {
    "name": "ipython",
    "version": 3
   },
   "file_extension": ".py",
   "mimetype": "text/x-python",
   "name": "python",
   "nbconvert_exporter": "python",
   "pygments_lexer": "ipython3",
   "version": "3.7.7"
  }
 },
 "nbformat": 4,
 "nbformat_minor": 4
}
