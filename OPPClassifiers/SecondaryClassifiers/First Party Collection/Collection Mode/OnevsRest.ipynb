{
 "cells": [
  {
   "cell_type": "code",
   "execution_count": 2,
   "metadata": {},
   "outputs": [],
   "source": [
    "# %matplotlib inline\n",
    "from numpy.random import RandomState\n",
    "import re\n",
    "import matplotlib\n",
    "import numpy as np\n",
    "import matplotlib.pyplot as plt\n",
    "import pandas as pd\n",
    "from sklearn.model_selection import train_test_split\n",
    "from sklearn.feature_extraction.text import TfidfVectorizer\n",
    "from sklearn.naive_bayes import MultinomialNB\n",
    "from sklearn.metrics import accuracy_score, multilabel_confusion_matrix\n",
    "from sklearn.multiclass import OneVsRestClassifier\n",
    "from nltk.corpus import stopwords\n",
    "from sklearn.svm import LinearSVC\n",
    "from sklearn.linear_model import LogisticRegression\n",
    "from sklearn.pipeline import Pipeline\n",
    "import seaborn as sns\n",
    "import string\n",
    "from sklearn.decomposition import TruncatedSVD"
   ]
  },
  {
   "cell_type": "code",
   "execution_count": 20,
   "metadata": {},
   "outputs": [],
   "source": [
    "import os\n",
    "path_to_model = 'C:/Users/prana/Desktop/BE Project/LegalBuddyServer/OPPClassifiers/SecondaryClassifiers/Models/'\n",
    "# os.listdir(path_to_model)"
   ]
  },
  {
   "cell_type": "code",
   "execution_count": null,
   "metadata": {},
   "outputs": [],
   "source": []
  },
  {
   "cell_type": "markdown",
   "metadata": {},
   "source": [
    "# Create Multilabel Dataset"
   ]
  },
  {
   "cell_type": "code",
   "execution_count": null,
   "metadata": {},
   "outputs": [],
   "source": [
    "#preprocess\n",
    "df = pd.read_csv('dataset.csv')\n",
    "df = df.dropna()\n",
    "\n",
    "classes = list(df.Category.unique())\n",
    "total_unique_clauses = df.Clause.unique().size\n",
    "\n",
    "#creating dict for appending\n",
    "classes_dict = {}\n",
    "for single_class in classes:\n",
    "    classes_dict[single_class] = list(numpy.zeros(total_unique_clauses))\n",
    "\n",
    "#creating the df\n",
    "data = {}\n",
    "for index,row in df.iterrows():\n",
    "    try : \n",
    "        data[row['Clause']].append(row['Category'])\n",
    "        data[row['Clause']] = list(set(data[row['Clause']]))  \n",
    "    except:\n",
    "        data[row['Clause']] = [row['Category']]\n",
    "\n",
    "        Clause = []\n",
    "Category = []\n",
    "for key in data.keys():\n",
    "    Clause.append(key)\n",
    "    Category.append(data[key])\n",
    "    \n",
    "data = pd.DataFrame({\n",
    "    'Clause' : Clause,\n",
    "    'Category' : Category\n",
    "})\n",
    "index = 0\n",
    "for category_list in data.Category:\n",
    "    for category in category_list:\n",
    "        classes_dict[category][index] = 1\n",
    "    index += 1\n",
    "\n",
    "classes_dict = pd.DataFrame(classes_dict)"
   ]
  },
  {
   "cell_type": "code",
   "execution_count": null,
   "metadata": {},
   "outputs": [],
   "source": [
    "data.head()"
   ]
  },
  {
   "cell_type": "code",
   "execution_count": null,
   "metadata": {},
   "outputs": [],
   "source": [
    "classes_dict.head()"
   ]
  },
  {
   "cell_type": "code",
   "execution_count": 59,
   "metadata": {},
   "outputs": [
    {
     "ename": "NameError",
     "evalue": "name 'data' is not defined",
     "output_type": "error",
     "traceback": [
      "\u001b[1;31m---------------------------------------------------------------------------\u001b[0m",
      "\u001b[1;31mNameError\u001b[0m                                 Traceback (most recent call last)",
      "\u001b[1;32m<ipython-input-59-6f74c4bf56cc>\u001b[0m in \u001b[0;36m<module>\u001b[1;34m\u001b[0m\n\u001b[1;32m----> 1\u001b[1;33m \u001b[0mone_hot_encoded_data\u001b[0m \u001b[1;33m=\u001b[0m \u001b[0mpd\u001b[0m\u001b[1;33m.\u001b[0m\u001b[0mconcat\u001b[0m\u001b[1;33m(\u001b[0m\u001b[1;33m[\u001b[0m\u001b[0mdata\u001b[0m\u001b[1;33m,\u001b[0m \u001b[0mclasses_dict\u001b[0m\u001b[1;33m]\u001b[0m\u001b[1;33m,\u001b[0m \u001b[0maxis\u001b[0m\u001b[1;33m=\u001b[0m\u001b[1;36m1\u001b[0m\u001b[1;33m)\u001b[0m\u001b[1;33m\u001b[0m\u001b[1;33m\u001b[0m\u001b[0m\n\u001b[0m",
      "\u001b[1;31mNameError\u001b[0m: name 'data' is not defined"
     ]
    }
   ],
   "source": [
    "one_hot_encoded_data = pd.concat([data, classes_dict], axis=1)\n",
    "one_hot_encoded_data.drop(columns=['Category']).to_csv('multilabel_dataset.csv')"
   ]
  },
  {
   "cell_type": "code",
   "execution_count": 4,
   "metadata": {},
   "outputs": [],
   "source": [
    "df = pd.read_csv('multilabel_dataset.csv')\n",
    "df = df.dropna()\n",
    "train = df.sample(frac=0.8, random_state = RandomState())\n",
    "test = df.loc[~df.index.isin(train.index)]\n",
    "validation = train.sample(frac=0.2, random_state=200)"
   ]
  },
  {
   "cell_type": "code",
   "execution_count": 5,
   "metadata": {},
   "outputs": [
    {
     "data": {
      "text/plain": [
       "array(['Implicit', 'Explicit', 'Unspecified', 'not-selected'],\n",
       "      dtype=object)"
      ]
     },
     "execution_count": 5,
     "metadata": {},
     "output_type": "execute_result"
    }
   ],
   "source": [
    "df.columns.values[2:]"
   ]
  },
  {
   "cell_type": "markdown",
   "metadata": {},
   "source": [
    "# Visualizing Data"
   ]
  },
  {
   "cell_type": "code",
   "execution_count": 6,
   "metadata": {},
   "outputs": [
    {
     "data": {
      "text/html": [
       "<div>\n",
       "<style scoped>\n",
       "    .dataframe tbody tr th:only-of-type {\n",
       "        vertical-align: middle;\n",
       "    }\n",
       "\n",
       "    .dataframe tbody tr th {\n",
       "        vertical-align: top;\n",
       "    }\n",
       "\n",
       "    .dataframe thead th {\n",
       "        text-align: right;\n",
       "    }\n",
       "</style>\n",
       "<table border=\"1\" class=\"dataframe\">\n",
       "  <thead>\n",
       "    <tr style=\"text-align: right;\">\n",
       "      <th></th>\n",
       "      <th>category</th>\n",
       "      <th>number_of_comments</th>\n",
       "    </tr>\n",
       "  </thead>\n",
       "  <tbody>\n",
       "    <tr>\n",
       "      <th>0</th>\n",
       "      <td>Implicit</td>\n",
       "      <td>863.0</td>\n",
       "    </tr>\n",
       "    <tr>\n",
       "      <th>1</th>\n",
       "      <td>Explicit</td>\n",
       "      <td>917.0</td>\n",
       "    </tr>\n",
       "    <tr>\n",
       "      <th>2</th>\n",
       "      <td>Unspecified</td>\n",
       "      <td>832.0</td>\n",
       "    </tr>\n",
       "    <tr>\n",
       "      <th>3</th>\n",
       "      <td>not-selected</td>\n",
       "      <td>854.0</td>\n",
       "    </tr>\n",
       "  </tbody>\n",
       "</table>\n",
       "</div>"
      ],
      "text/plain": [
       "       category  number_of_comments\n",
       "0      Implicit               863.0\n",
       "1      Explicit               917.0\n",
       "2   Unspecified               832.0\n",
       "3  not-selected               854.0"
      ]
     },
     "execution_count": 6,
     "metadata": {},
     "output_type": "execute_result"
    }
   ],
   "source": [
    "counts = []\n",
    "categories = list(df.columns.values[2:])\n",
    "for i in categories:\n",
    "    counts.append((i, df[i].sum()))\n",
    "df_stats = pd.DataFrame(counts, columns=['category', 'number_of_comments'])\n",
    "df_stats"
   ]
  },
  {
   "cell_type": "code",
   "execution_count": 7,
   "metadata": {},
   "outputs": [
    {
     "data": {
      "text/plain": [
       "Text(0.5, 0, 'category')"
      ]
     },
     "execution_count": 7,
     "metadata": {},
     "output_type": "execute_result"
    },
    {
     "data": {
      "image/png": "[encoded data removed]",
      "text/plain": [
       "<Figure size 576x360 with 1 Axes>"
      ]
     },
     "metadata": {
      "needs_background": "light"
     },
     "output_type": "display_data"
    }
   ],
   "source": [
    "df_stats.plot(x='category', y='number_of_comments', kind='bar', legend=False, grid=True, figsize=(8, 5))\n",
    "plt.title(\"Number of comments per category\")\n",
    "plt.ylabel('# of Occurrences', fontsize=12)\n",
    "plt.xlabel('category', fontsize=12)"
   ]
  },
  {
   "cell_type": "markdown",
   "metadata": {},
   "source": [
    "# Preprocessing Data"
   ]
  },
  {
   "cell_type": "code",
   "execution_count": 7,
   "metadata": {},
   "outputs": [],
   "source": [
    "# cleaned_clause = []\n",
    "# for clause in df.Clause:\n",
    "#     clause = clause.lower()\n",
    "#     clause = re.sub(r'[0-9]+', '',clause) #number removal\n",
    "#     clause = clause.translate(string.maketrans(“”,””), string.punctuation) #removinf punctuations\n",
    "#     clause = clause.strip() #whitespace removal\n",
    "#     clause\n",
    "#     break"
   ]
  },
  {
   "cell_type": "code",
   "execution_count": 6,
   "metadata": {},
   "outputs": [],
   "source": [
    "x_test = test.Clause\n",
    "x_train = train.Clause"
   ]
  },
  {
   "cell_type": "code",
   "execution_count": 7,
   "metadata": {},
   "outputs": [],
   "source": [
    "y = train.iloc[:,2:]\n",
    "y_test = test.iloc[:,2:]\n",
    "\n",
    "categories = list(y.columns)"
   ]
  },
  {
   "cell_type": "code",
   "execution_count": 8,
   "metadata": {},
   "outputs": [
    {
     "data": {
      "text/plain": [
       "<2373x3224 sparse matrix of type '<class 'numpy.float64'>'\n",
       "\twith 57993 stored elements in Compressed Sparse Row format>"
      ]
     },
     "execution_count": 8,
     "metadata": {},
     "output_type": "execute_result"
    }
   ],
   "source": [
    "tfidf = TfidfVectorizer()\n",
    "tfidf.fit_transform(df.Clause)"
   ]
  },
  {
   "cell_type": "markdown",
   "metadata": {},
   "source": [
    "# Naive Bayes"
   ]
  },
  {
   "cell_type": "code",
   "execution_count": 11,
   "metadata": {},
   "outputs": [
    {
     "name": "stdout",
     "output_type": "stream",
     "text": [
      "... Processing Implicit\n",
      "Test accuracy is 0.7578947368421053\n",
      "... Processing Explicit\n",
      "Test accuracy is 0.8652631578947368\n",
      "... Processing Unspecified\n",
      "Test accuracy is 0.7452631578947368\n",
      "... Processing not-selected\n",
      "Test accuracy is 0.8252631578947368\n"
     ]
    },
    {
     "data": {
      "text/plain": [
       "array([[[328,   4],\n",
       "        [111,  32]],\n",
       "\n",
       "       [[321,   5],\n",
       "        [ 59,  90]],\n",
       "\n",
       "       [[343,   3],\n",
       "        [118,  11]],\n",
       "\n",
       "       [[391,   0],\n",
       "        [ 83,   1]]], dtype=int64)"
      ]
     },
     "execution_count": 11,
     "metadata": {},
     "output_type": "execute_result"
    }
   ],
   "source": [
    "prediction_pd = {}\n",
    "classifier_list_nb = []\n",
    "for category in categories:\n",
    "    clf = OneVsRestClassifier(MultinomialNB(fit_prior=True, class_prior=None))\n",
    "    print('... Processing {}'.format(category))\n",
    "    clf.fit(tfidf.transform(x_train), y[category])\n",
    "    prediction = clf.predict(tfidf.transform(x_test))\n",
    "    print('Test accuracy is {}'.format(accuracy_score(y_test[category], prediction)))\n",
    "    prediction_pd[category] = prediction\n",
    "    classifier_list_nb.append(clf)\n",
    "prediction_pd = pd.DataFrame(prediction_pd)\n",
    "multilabel_confusion_matrix(y_test, prediction_pd)"
   ]
  },
  {
   "cell_type": "markdown",
   "metadata": {},
   "source": [
    "# Linear SVC"
   ]
  },
  {
   "cell_type": "code",
   "execution_count": 12,
   "metadata": {},
   "outputs": [
    {
     "name": "stdout",
     "output_type": "stream",
     "text": [
      "... Processing Implicit\n",
      "Test accuracy is 0.8147368421052632\n",
      "... Processing Explicit\n",
      "Test accuracy is 0.9242105263157895\n",
      "... Processing Unspecified\n",
      "Test accuracy is 0.76\n",
      "... Processing not-selected\n",
      "Test accuracy is 0.8505263157894737\n"
     ]
    },
    {
     "data": {
      "text/plain": [
       "array([[[297,  35],\n",
       "        [ 53,  90]],\n",
       "\n",
       "       [[308,  18],\n",
       "        [ 18, 131]],\n",
       "\n",
       "       [[299,  47],\n",
       "        [ 67,  62]],\n",
       "\n",
       "       [[363,  28],\n",
       "        [ 43,  41]]], dtype=int64)"
      ]
     },
     "execution_count": 12,
     "metadata": {},
     "output_type": "execute_result"
    }
   ],
   "source": [
    "prediction_pd = {}\n",
    "classifier_list_svc = []\n",
    "clf = OneVsRestClassifier(LinearSVC(), n_jobs=1)\n",
    "for category in categories:\n",
    "    print('... Processing {}'.format(category))\n",
    "    clf.fit(tfidf.transform(x_train), y[category])\n",
    "    prediction = clf.predict(tfidf.transform(x_test))\n",
    "    print('Test accuracy is {}'.format(accuracy_score(y_test[category], prediction)))\n",
    "    prediction_pd[category] = prediction\n",
    "    classifier_list_svc.append(clf)\n",
    "prediction_pd = pd.DataFrame(prediction_pd)\n",
    "multilabel_confusion_matrix(y_test, prediction_pd)"
   ]
  },
  {
   "cell_type": "markdown",
   "metadata": {},
   "source": [
    "# Logistic Regression"
   ]
  },
  {
   "cell_type": "code",
   "execution_count": 13,
   "metadata": {},
   "outputs": [
    {
     "name": "stdout",
     "output_type": "stream",
     "text": [
      "... Processing Implicit\n",
      "Test accuracy is 0.8294736842105264\n",
      "... Processing Explicit\n",
      "Test accuracy is 0.9178947368421052\n",
      "... Processing Unspecified\n",
      "Test accuracy is 0.8\n",
      "... Processing not-selected\n",
      "Test accuracy is 0.8378947368421052\n"
     ]
    },
    {
     "data": {
      "text/plain": [
       "array([[[318,  14],\n",
       "        [ 67,  76]],\n",
       "\n",
       "       [[318,   8],\n",
       "        [ 31, 118]],\n",
       "\n",
       "       [[324,  22],\n",
       "        [ 73,  56]],\n",
       "\n",
       "       [[375,  16],\n",
       "        [ 61,  23]]], dtype=int64)"
      ]
     },
     "execution_count": 13,
     "metadata": {},
     "output_type": "execute_result"
    }
   ],
   "source": [
    "prediction_pd = {}\n",
    "classifier_list_lr = []\n",
    "clf = OneVsRestClassifier(LogisticRegression(solver='sag'), n_jobs=1)\n",
    "for category in categories:\n",
    "    print('... Processing {}'.format(category))\n",
    "    clf.fit(tfidf.transform(x_train), y[category])\n",
    "    prediction = clf.predict(tfidf.transform(x_test))\n",
    "    print('Test accuracy is {}'.format(accuracy_score(y_test[category], prediction)))\n",
    "    prediction_pd[category] = prediction\n",
    "    classifier_list_lr.append(clf)\n",
    "prediction_pd = pd.DataFrame(prediction_pd)\n",
    "multilabel_confusion_matrix(y_test, prediction_pd)"
   ]
  },
  {
   "cell_type": "code",
   "execution_count": 14,
   "metadata": {},
   "outputs": [],
   "source": [
    "import pickle\n",
    "#saving model\n",
    "list_of_classifiers = classifier_list_lr\n",
    "pickle.dump((tfidf, list_of_classifiers), open(path_to_model, 'wb'))"
   ]
  },
  {
   "cell_type": "code",
   "execution_count": 17,
   "metadata": {},
   "outputs": [],
   "source": [
    "with open(path_to_model, 'rb') as model:\n",
    "    vect, clfs = pickle.load(model)"
   ]
  },
  {
   "cell_type": "code",
   "execution_count": 16,
   "metadata": {},
   "outputs": [
    {
     "data": {
      "text/plain": [
       "[OneVsRestClassifier(estimator=LogisticRegression(C=1.0, class_weight=None,\n",
       "                                                  dual=False, fit_intercept=True,\n",
       "                                                  intercept_scaling=1,\n",
       "                                                  l1_ratio=None, max_iter=100,\n",
       "                                                  multi_class='auto',\n",
       "                                                  n_jobs=None, penalty='l2',\n",
       "                                                  random_state=None,\n",
       "                                                  solver='sag', tol=0.0001,\n",
       "                                                  verbose=0, warm_start=False),\n",
       "                     n_jobs=1),\n",
       " OneVsRestClassifier(estimator=LogisticRegression(C=1.0, class_weight=None,\n",
       "                                                  dual=False, fit_intercept=True,\n",
       "                                                  intercept_scaling=1,\n",
       "                                                  l1_ratio=None, max_iter=100,\n",
       "                                                  multi_class='auto',\n",
       "                                                  n_jobs=None, penalty='l2',\n",
       "                                                  random_state=None,\n",
       "                                                  solver='sag', tol=0.0001,\n",
       "                                                  verbose=0, warm_start=False),\n",
       "                     n_jobs=1),\n",
       " OneVsRestClassifier(estimator=LogisticRegression(C=1.0, class_weight=None,\n",
       "                                                  dual=False, fit_intercept=True,\n",
       "                                                  intercept_scaling=1,\n",
       "                                                  l1_ratio=None, max_iter=100,\n",
       "                                                  multi_class='auto',\n",
       "                                                  n_jobs=None, penalty='l2',\n",
       "                                                  random_state=None,\n",
       "                                                  solver='sag', tol=0.0001,\n",
       "                                                  verbose=0, warm_start=False),\n",
       "                     n_jobs=1),\n",
       " OneVsRestClassifier(estimator=LogisticRegression(C=1.0, class_weight=None,\n",
       "                                                  dual=False, fit_intercept=True,\n",
       "                                                  intercept_scaling=1,\n",
       "                                                  l1_ratio=None, max_iter=100,\n",
       "                                                  multi_class='auto',\n",
       "                                                  n_jobs=None, penalty='l2',\n",
       "                                                  random_state=None,\n",
       "                                                  solver='sag', tol=0.0001,\n",
       "                                                  verbose=0, warm_start=False),\n",
       "                     n_jobs=1)]"
      ]
     },
     "execution_count": 16,
     "metadata": {},
     "output_type": "execute_result"
    }
   ],
   "source": [
    "clfs"
   ]
  },
  {
   "cell_type": "code",
   "execution_count": null,
   "metadata": {},
   "outputs": [],
   "source": []
  }
 ],
 "metadata": {
  "kernelspec": {
   "display_name": "Python 3",
   "language": "python",
   "name": "python3"
  },
  "language_info": {
   "codemirror_mode": {
    "name": "ipython",
    "version": 3
   },
   "file_extension": ".py",
   "mimetype": "text/x-python",
   "name": "python",
   "nbconvert_exporter": "python",
   "pygments_lexer": "ipython3",
   "version": "3.7.7"
  }
 },
 "nbformat": 4,
 "nbformat_minor": 4
}
